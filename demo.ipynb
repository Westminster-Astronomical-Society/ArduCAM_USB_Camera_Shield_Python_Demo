{
 "cells": [
  {
   "cell_type": "code",
   "execution_count": 1,
   "metadata": {},
   "outputs": [],
   "source": [
    "import cv2\n",
    "\n",
    "from arducam import ArducamCamera\n",
    "from ImageConvert import convert_image"
   ]
  },
  {
   "cell_type": "code",
   "execution_count": 2,
   "metadata": {},
   "outputs": [],
   "source": [
    "config_file = 'EK034_IMX462_RAW10_10b_long_exposure_20230906/IMX462_MIPI_2Lane_RAW10_10b_1280x720.cfg'"
   ]
  },
  {
   "cell_type": "code",
   "execution_count": 3,
   "metadata": {},
   "outputs": [
    {
     "name": "stdout",
     "output_type": "stream",
     "text": [
      "color mode 3\n",
      "Serial: AU3S-2337-0002\n",
      "{'version': 'v3.1', 'year': 22, 'mouth': 7, 'day': 21}\n",
      "{'fw_version': 'v3.20', 'interface': 3, 'device': 3}\n"
     ]
    }
   ],
   "source": [
    "camera = ArducamCamera()\n",
    "camera.openCamera(config_file)\n",
    "camera.dumpDeviceInfo()"
   ]
  },
  {
   "cell_type": "code",
   "execution_count": 4,
   "metadata": {},
   "outputs": [
    {
     "data": {
      "text/plain": [
       "0"
      ]
     },
     "execution_count": 4,
     "metadata": {},
     "output_type": "execute_result"
    }
   ],
   "source": [
    "# Min and max values are set in the configuration file.\n",
    "    \n",
    "camera.setCtrl(\"setFramerate\", 60000)\n",
    "camera.setCtrl(\"setExposureTime\", 5311)\n",
    "camera.setCtrl(\"setGain\", 100)"
   ]
  },
  {
   "cell_type": "code",
   "execution_count": 5,
   "metadata": {},
   "outputs": [
    {
     "name": "stdout",
     "output_type": "stream",
     "text": [
      "Capture began, Error : USB_CAMERA_NO_ERROR\n",
      "Error capture image, Error : USB_CAMERA_DATA_LEN_ERROR\n",
      "USB_CAMERA_DATA_LEN_ERROR\tRECEIVE_LENGTH:1964032\n"
     ]
    }
   ],
   "source": [
    "camera.start() "
   ]
  },
  {
   "cell_type": "code",
   "execution_count": 6,
   "metadata": {},
   "outputs": [],
   "source": [
    "ret, data, cfg = camera.read()"
   ]
  },
  {
   "cell_type": "code",
   "execution_count": 7,
   "metadata": {},
   "outputs": [
    {
     "data": {
      "text/plain": [
       "True"
      ]
     },
     "execution_count": 7,
     "metadata": {},
     "output_type": "execute_result"
    }
   ],
   "source": [
    "image = convert_image(data, cfg, camera.color_mode)\n",
    "cv2.imwrite('image.tif', image)"
   ]
  },
  {
   "cell_type": "code",
   "execution_count": 8,
   "metadata": {},
   "outputs": [],
   "source": [
    "camera.stop()\n",
    "camera.closeCamera()"
   ]
  },
  {
   "cell_type": "code",
   "execution_count": 9,
   "metadata": {},
   "outputs": [
    {
     "data": {
      "text/plain": [
       "array([[[20, 29, 24],\n",
       "        [20, 29, 24],\n",
       "        [20, 29, 25],\n",
       "        ...,\n",
       "        [16, 19, 18],\n",
       "        [16, 19, 18],\n",
       "        [16, 19, 18]],\n",
       "\n",
       "       [[20, 29, 24],\n",
       "        [20, 29, 24],\n",
       "        [20, 29, 25],\n",
       "        ...,\n",
       "        [16, 19, 18],\n",
       "        [16, 19, 18],\n",
       "        [16, 19, 18]],\n",
       "\n",
       "       [[20, 31, 24],\n",
       "        [20, 31, 24],\n",
       "        [20, 30, 25],\n",
       "        ...,\n",
       "        [16, 19, 18],\n",
       "        [16, 19, 18],\n",
       "        [16, 19, 18]],\n",
       "\n",
       "       ...,\n",
       "\n",
       "       [[17, 23, 21],\n",
       "        [17, 23, 21],\n",
       "        [17, 23, 21],\n",
       "        ...,\n",
       "        [16, 17, 16],\n",
       "        [16, 16, 16],\n",
       "        [16, 16, 16]],\n",
       "\n",
       "       [[17, 24, 21],\n",
       "        [17, 24, 21],\n",
       "        [17, 23, 20],\n",
       "        ...,\n",
       "        [16, 17, 16],\n",
       "        [15, 17, 16],\n",
       "        [15, 17, 16]],\n",
       "\n",
       "       [[17, 24, 21],\n",
       "        [17, 24, 21],\n",
       "        [17, 23, 20],\n",
       "        ...,\n",
       "        [16, 17, 16],\n",
       "        [15, 17, 16],\n",
       "        [15, 17, 16]]], dtype=uint8)"
      ]
     },
     "execution_count": 9,
     "metadata": {},
     "output_type": "execute_result"
    }
   ],
   "source": [
    "image"
   ]
  },
  {
   "cell_type": "code",
   "execution_count": null,
   "metadata": {},
   "outputs": [],
   "source": []
  }
 ],
 "metadata": {
  "kernelspec": {
   "display_name": "base",
   "language": "python",
   "name": "python3"
  },
  "language_info": {
   "codemirror_mode": {
    "name": "ipython",
    "version": 3
   },
   "file_extension": ".py",
   "mimetype": "text/x-python",
   "name": "python",
   "nbconvert_exporter": "python",
   "pygments_lexer": "ipython3",
   "version": "3.11.6"
  }
 },
 "nbformat": 4,
 "nbformat_minor": 2
}
